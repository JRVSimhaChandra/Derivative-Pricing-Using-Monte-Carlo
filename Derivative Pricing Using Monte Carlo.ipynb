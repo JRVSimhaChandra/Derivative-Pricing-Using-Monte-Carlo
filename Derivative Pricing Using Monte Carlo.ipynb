{
 "cells": [
  {
   "cell_type": "code",
   "execution_count": 3,
   "id": "5682d8b0-4bb3-4739-a878-dee4058bb910",
   "metadata": {},
   "outputs": [],
   "source": [
    "import numpy as np"
   ]
  },
  {
   "cell_type": "code",
   "execution_count": 4,
   "id": "3c4fa73a-2efa-45f4-94f5-86e7773d7b75",
   "metadata": {},
   "outputs": [
    {
     "name": "stdout",
     "output_type": "stream",
     "text": [
      "Estimated price of the ABRC derivative: 51.15\n"
     ]
    }
   ],
   "source": [
    "# Parameters\n",
    "S0 = 100  # Initial asset price\n",
    "K = 100  # Strike price\n",
    "T = 1.0  # Time to maturity in years\n",
    "r = 0.05  # Risk-free rate\n",
    "sigma = 0.2  # Volatility\n",
    "B = 70  # Barrier level\n",
    "C = 0.1  # Coupon rate\n",
    "N = 252  # Number of time steps (daily steps)\n",
    "M = 10000  # Number of simulations\n",
    "autocall_levels = [105, 110, 115]  # Example auto-call levels at observation dates\n",
    "autocall_dates = [0.25, 0.5, 0.75]  # Observation dates (in years)\n",
    "\n",
    "dt = T / N  # Time step size\n",
    "\n",
    "# Monte Carlo simulation\n",
    "payoffs = np.zeros(M)\n",
    "\n",
    "for i in range(M):\n",
    "    S = np.zeros(N + 1)\n",
    "    S[0] = S0\n",
    "    is_autocalled = False\n",
    "    for t in range(1, N + 1):\n",
    "        Z = np.random.standard_normal()\n",
    "        S[t] = S[t - 1] * np.exp((r - 0.5 * sigma**2) * dt + sigma * np.sqrt(dt) * Z)\n",
    "        \n",
    "        # Check for auto-call condition\n",
    "        if t * dt in autocall_dates:\n",
    "            index = autocall_dates.index(t * dt)\n",
    "            if S[t] >= autocall_levels[index]:\n",
    "                payoffs[i] = S[t] * C * (index + 1)\n",
    "                is_autocalled = True\n",
    "                break\n",
    "        \n",
    "        # Check for barrier condition\n",
    "        if S[t] <= B:\n",
    "            payoffs[i] = S[t] * C  # Modify as needed for specific payoff structure\n",
    "            is_autocalled = True\n",
    "            break\n",
    "    \n",
    "    if not is_autocalled:\n",
    "        if S[-1] >= K:\n",
    "            payoffs[i] = S[-1] * (1 + C)  # Modify as needed for specific payoff structure\n",
    "        else:\n",
    "            payoffs[i] = S[-1] * (1 - C)  # Modify as needed for specific payoff structure\n",
    "\n",
    "# Discount payoffs to present value\n",
    "payoffs_discounted = np.exp(-r * T) * payoffs\n",
    "\n",
    "# Calculate the average discounted payoff\n",
    "price = np.mean(payoffs_discounted)\n",
    "\n",
    "print(f\"Estimated price of the ABRC derivative: {price:.2f}\")\n"
   ]
  },
  {
   "cell_type": "code",
   "execution_count": null,
   "id": "8b19b8dc-a028-432b-8991-aaedec7bb33c",
   "metadata": {},
   "outputs": [],
   "source": []
  },
  {
   "cell_type": "code",
   "execution_count": null,
   "id": "d57223eb-227e-4f1e-8ed4-4b3358bf2ff9",
   "metadata": {},
   "outputs": [],
   "source": []
  }
 ],
 "metadata": {
  "kernelspec": {
   "display_name": "Python 3 (ipykernel)",
   "language": "python",
   "name": "python3"
  },
  "language_info": {
   "codemirror_mode": {
    "name": "ipython",
    "version": 3
   },
   "file_extension": ".py",
   "mimetype": "text/x-python",
   "name": "python",
   "nbconvert_exporter": "python",
   "pygments_lexer": "ipython3",
   "version": "3.12.4"
  }
 },
 "nbformat": 4,
 "nbformat_minor": 5
}
